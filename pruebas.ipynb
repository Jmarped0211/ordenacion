{
 "cells": [
  {
   "cell_type": "code",
   "execution_count": 2,
   "id": "d2006ad9",
   "metadata": {},
   "outputs": [],
   "source": [
    "import pygame \n",
    "import pygame_widgets"
   ]
  },
  {
   "cell_type": "code",
   "execution_count": null,
   "id": "297596b5",
   "metadata": {},
   "outputs": [],
   "source": []
  },
  {
   "cell_type": "code",
   "execution_count": null,
   "id": "6120087d",
   "metadata": {},
   "outputs": [
    {
     "name": "stdout",
     "output_type": "stream",
     "text": [
      "pygame 2.6.1 (SDL 2.28.4, Python 3.11.4)\n",
      "Hello from the pygame community. https://www.pygame.org/contribute.html\n"
     ]
    },
    {
     "ename": "NameError",
     "evalue": "name 'pygame' is not defined",
     "output_type": "error",
     "traceback": [
      "\u001b[0;31m---------------------------------------------------------------------------\u001b[0m",
      "\u001b[0;31mNameError\u001b[0m                                 Traceback (most recent call last)",
      "Cell \u001b[0;32mIn[1], line 3\u001b[0m\n\u001b[1;32m      1\u001b[0m \u001b[38;5;28;01mfrom\u001b[39;00m \u001b[38;5;21;01mpygame_widgets\u001b[39;00m\u001b[38;5;21;01m.\u001b[39;00m\u001b[38;5;21;01mbutton\u001b[39;00m \u001b[38;5;28;01mimport\u001b[39;00m Button\n\u001b[0;32m----> 3\u001b[0m pygame\u001b[38;5;241m.\u001b[39minit()\n\u001b[1;32m      4\u001b[0m win \u001b[38;5;241m=\u001b[39m pygame\u001b[38;5;241m.\u001b[39mdisplay\u001b[38;5;241m.\u001b[39mset_mode((\u001b[38;5;241m600\u001b[39m,\u001b[38;5;241m600\u001b[39m))\n\u001b[1;32m      6\u001b[0m button \u001b[38;5;241m=\u001b[39m Button(\n\u001b[1;32m      7\u001b[0m     win, \u001b[38;5;241m100\u001b[39m, \u001b[38;5;241m100\u001b[39m, \u001b[38;5;241m300\u001b[39m, \u001b[38;5;241m150\u001b[39m,\n\u001b[1;32m      8\u001b[0m \n\u001b[1;32m      9\u001b[0m     text\u001b[38;5;241m=\u001b[39m\u001b[38;5;124m\"\u001b[39m\u001b[38;5;124mHOLA\u001b[39m\u001b[38;5;124m\"\u001b[39m, onClick\u001b[38;5;241m=\u001b[39m\u001b[38;5;28;01mlambda\u001b[39;00m: \u001b[38;5;28mprint\u001b[39m(\u001b[38;5;124m'\u001b[39m\u001b[38;5;124mClick\u001b[39m\u001b[38;5;124m'\u001b[39m)\n\u001b[1;32m     10\u001b[0m )\n",
      "\u001b[0;31mNameError\u001b[0m: name 'pygame' is not defined"
     ]
    }
   ],
   "source": [
    "from pygame_widgets.button import Button\n",
    "from pygame_texbox import textbox \n",
    "pygame.init()\n",
    "win = pygame.display.set_mode((600,600))\n",
    "\n",
    "button = Button(\n",
    "    win, 100, 100, 300, 150,    text=\"Agregar\", onClick=lambda: print('Click')\n",
    ")\n",
    "-\n",
    "run = True\n",
    "while run:\n",
    "    events = pygame.event.get()\n",
    "    for event in events:\n",
    "        if event.type == pygame.QUIT:\n",
    "            pygame.quit()\n",
    "            run = False \n",
    "            break\n",
    "    if run==False:\n",
    "        break\n",
    "    win.fill((255, 255, 255))\n",
    "\n",
    "    pygame_widgets.update(events)\n",
    "    pygame.display.update()\n",
    "    \n",
    " "
   ]
  }
 ],
 "metadata": {
  "kernelspec": {
   "display_name": "base",
   "language": "python",
   "name": "python3"
  },
  "language_info": {
   "codemirror_mode": {
    "name": "ipython",
    "version": 3
   },
   "file_extension": ".py",
   "mimetype": "text/x-python",
   "name": "python",
   "nbconvert_exporter": "python",
   "pygments_lexer": "ipython3",
   "version": "3.11.4"
  }
 },
 "nbformat": 4,
 "nbformat_minor": 5
}
