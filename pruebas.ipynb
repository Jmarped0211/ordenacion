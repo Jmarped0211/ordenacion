{
 "cells": [
  {
   "cell_type": "code",
   "execution_count": 2,
   "id": "d2006ad9",
   "metadata": {},
   "outputs": [],
   "source": [
    "import pygame \n",
    "import pygame_widgets"
   ]
  },
  {
   "cell_type": "code",
   "execution_count": 3,
   "id": "6120087d",
   "metadata": {},
   "outputs": [
    {
     "name": "stdout",
     "output_type": "stream",
     "text": [
      "Click\n"
     ]
    }
   ],
   "source": [
    "from pygame_widgets.button import Button\n",
    "\n",
    "pygame.init()\n",
    "win = pygame.display.set_mode((600,600))\n",
    "\n",
    "button = Button(\n",
    "    win, 100, 100, 300, 150,\n",
    "\n",
    "    text=\"HOLA\", onClick=lambda: print('Click')\n",
    ")\n",
    "\n",
    "run = True\n",
    "while run:\n",
    "    events = pygame.event.get()\n",
    "    for event in events:\n",
    "        if event.type == pygame.QUIT:\n",
    "            pygame.quit()\n",
    "            run = False \n",
    "            break\n",
    "    if run==False:\n",
    "        break\n",
    "    win.fill((255, 255, 255))\n",
    "\n",
    "    pygame_widgets.update(events)\n",
    "    pygame.display.update()\n",
    "    \n",
    " "
   ]
  }
 ],
 "metadata": {
  "kernelspec": {
   "display_name": "base",
   "language": "python",
   "name": "python3"
  },
  "language_info": {
   "codemirror_mode": {
    "name": "ipython",
    "version": 3
   },
   "file_extension": ".py",
   "mimetype": "text/x-python",
   "name": "python",
   "nbconvert_exporter": "python",
   "pygments_lexer": "ipython3",
   "version": "3.11.4"
  }
 },
 "nbformat": 4,
 "nbformat_minor": 5
}
