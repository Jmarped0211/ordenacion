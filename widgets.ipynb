{
 "cells": [
  {
   "cell_type": "code",
   "execution_count": 2,
   "id": "1ec62e5e",
   "metadata": {},
   "outputs": [],
   "source": [
    "\n",
    "import ipywidgets as wid"
   ]
  },
  {
   "cell_type": "code",
   "execution_count": null,
   "id": "5ebef9f3",
   "metadata": {},
   "outputs": [],
   "source": [
    "def swap(i):\n",
    "    global n \n",
    "    a= n[i]\n",
    "    n[i] = n[i+1]\n",
    "    n[i+1] = a\n",
    "\n",
    "contador  = 0\n",
    "n = []"
   ]
  },
  {
   "cell_type": "code",
   "execution_count": null,
   "id": "14f736f5",
   "metadata": {},
   "outputs": [],
   "source": [
    "n = []\n",
    "def agregar(p):\n",
    "    n.append(int (input.value))\n",
    "    output.value=str(n)\n",
    "def ordenar(p)\n",
    "    parar = 1 \n",
    "    for j in range(len(n)-1):"
   ]
  },
  {
   "cell_type": "code",
   "execution_count": 4,
   "id": "0a64be65",
   "metadata": {},
   "outputs": [
    {
     "data": {
      "application/vnd.jupyter.widget-view+json": {
       "model_id": "86fe6fd660364693aba977961a2f1294",
       "version_major": 2,
       "version_minor": 0
      },
      "text/plain": [
       "Button(description='aceptar', style=ButtonStyle())"
      ]
     },
     "metadata": {},
     "output_type": "display_data"
    },
    {
     "data": {
      "application/vnd.jupyter.widget-view+json": {
       "model_id": "960948df689846ac848f790bb6438dfd",
       "version_major": 2,
       "version_minor": 0
      },
      "text/plain": [
       "Text(value='')"
      ]
     },
     "metadata": {},
     "output_type": "display_data"
    }
   ],
   "source": [
    "display(saludo,output)"
   ]
  },
  {
   "cell_type": "code",
   "execution_count": null,
   "id": "b9f21db3",
   "metadata": {},
   "outputs": [],
   "source": []
  },
  {
   "cell_type": "code",
   "execution_count": null,
   "id": "9189dc42",
   "metadata": {},
   "outputs": [],
   "source": []
  }
 ],
 "metadata": {
  "kernelspec": {
   "display_name": "base",
   "language": "python",
   "name": "python3"
  },
  "language_info": {
   "codemirror_mode": {
    "name": "ipython",
    "version": 3
   },
   "file_extension": ".py",
   "mimetype": "text/x-python",
   "name": "python",
   "nbconvert_exporter": "python",
   "pygments_lexer": "ipython3",
   "version": "3.11.4"
  }
 },
 "nbformat": 4,
 "nbformat_minor": 5
}
